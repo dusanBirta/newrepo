{
 "cells": [
  {
   "cell_type": "markdown",
   "metadata": {},
   "source": [
    "<p style=\"font-family: Arial; font-size:3em;color:black;\"> Lab Exercise 3 </p>"
   ]
  },
  {
   "cell_type": "markdown",
   "metadata": {},
   "source": [
    "Group 7 Names:  Dusan Birtasevic\n",
    "                Xaie Dange\n",
    "                Pablo Guinea Benito\n",
    "                Kavian Mashayekhi\n",
    "                Tasneem Shabbir Pipalyawala\n",
    "                Taha Sathalia\n",
    "                Taranjot Singh\n",
    "                Wiwat Thaphon"
   ]
  },
  {
   "cell_type": "code",
   "execution_count": 68,
   "metadata": {},
   "outputs": [
    {
     "data": {
      "image/png": "[encoded data removed]",
      "text/plain": [
       "<Figure size 640x480 with 1 Axes>"
      ]
     },
     "metadata": {},
     "output_type": "display_data"
    }
   ],
   "source": [
    "%matplotlib inline\n",
    "import numpy as np\n",
    "import matplotlib.pyplot as plt\n",
    "\n",
    "# # of hours a AI student spends on their courses in a month\n",
    "np.random.seed(10)\n",
    "no_hours = np.random.normal(40.0, 10.0,10000)\n",
    "plt.hist(no_hours, 50)\n",
    "plt.show()"
   ]
  },
  {
   "cell_type": "code",
   "execution_count": 69,
   "metadata": {
    "scrolled": true
   },
   "outputs": [
    {
     "name": "stdout",
     "output_type": "stream",
     "text": [
      "mean: 40.05102056001915\n",
      "std:  9.896640127716951\n",
      "var:  97.94348581753738\n"
     ]
    }
   ],
   "source": [
    "# Calculate and report the mean, std, and var of the data shown above.\n",
    "# What is the theoretical relationship between std and var? Do the numbers reperted in the previous step agree with your expectation?\n",
    "# Begin changing the different parameters on the normal function, discuss your observations as you change each input parameter.\n",
    "\n",
    "# Q1:\n",
    "print('mean:', np.mean(no_hours))\n",
    "print('std: ',np.std(no_hours))\n",
    "print('var: ',np.var(no_hours))\n",
    "\n"
   ]
  },
  {
   "cell_type": "markdown",
   "metadata": {},
   "source": [
    " # Q2:\n",
    " variance is the square of the standard deviation.\n",
    " std deviation measures the deviation from the mean\n",
    " var is the squared deviation from the mean\n",
    " The numbers do agree with our expectation. The greater the number for the 3rd parameter(data points for distribution,\n",
    " the closer the outputed std and var are to the amounts specified in the method arguments. \n",
    " \n",
    " # Q3:\n",
    "    1st Parameter(np.random.normal(40.0,__,__))\n",
    "        The first parameter sets the mean for the random normal distribution. \n",
    "        Changing this value affects where the peak of this distribution/bell curve will be.\n",
    "        When increased/decreased it increases/decreases max and min point of the horizontal axis by a factor of the\n",
    "        2nd parameter, the std.\n",
    "    2nd Parameter(np.random.normal(__, 10.0,__))\n",
    "        The Second parameter sets the std of the random normal distibution.\n",
    "        It affects the distance between each index on the horizontal axis, the standard deviations from the mean.\n",
    "    3rd Parameternp.random.normal(__, __,10000):\n",
    "        The third parameter sets the amount of data points in the random normal distribution.\n",
    "        This parameter affects the shape of the plot. The more data points, the more bell shaped(normal)\n",
    "        the distribution is.\n",
    " "
   ]
  }
 ],
 "metadata": {
  "kernelspec": {
   "display_name": "Python 3 (ipykernel)",
   "language": "python",
   "name": "python3"
  },
  "language_info": {
   "codemirror_mode": {
    "name": "ipython",
    "version": 3
   },
   "file_extension": ".py",
   "mimetype": "text/x-python",
   "name": "python",
   "nbconvert_exporter": "python",
   "pygments_lexer": "ipython3",
   "version": "3.9.15"
  }
 },
 "nbformat": 4,
 "nbformat_minor": 1
}
